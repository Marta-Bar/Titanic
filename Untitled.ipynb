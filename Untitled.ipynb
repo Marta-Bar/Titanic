{
 "cells": [
  {
   "cell_type": "code",
   "execution_count": null,
   "id": "67fc5efb-fb34-4285-9876-525b7417c7f0",
   "metadata": {},
   "outputs": [],
   "source": [
    "import pandas as pd\n",
    "import numpy as np\n",
    "\n",
    "train_titanic = pd.read_csv('titanic_train.csv')\n",
    "test_titanic = pd.read_csv('test-2.csv')\n",
    "\n",
    "data = [train_titanic, test_titanic]"
   ]
  },
  {
   "cell_type": "code",
   "execution_count": null,
   "id": "00b177f2-57a3-486d-9ac7-18f0d6ab37e3",
   "metadata": {},
   "outputs": [],
   "source": [
    "train_titanic.head()"
   ]
  },
  {
   "cell_type": "code",
   "execution_count": null,
   "id": "5a5e7faa-8449-4709-b1bf-55ebeaabe84a",
   "metadata": {},
   "outputs": [],
   "source": [
    "train_titanic.info()"
   ]
  },
  {
   "cell_type": "code",
   "execution_count": null,
   "id": "3b2171b5-a32b-4601-b15a-9f0fbd4645b4",
   "metadata": {},
   "outputs": [],
   "source": [
    "train_titanic.describe()"
   ]
  },
  {
   "cell_type": "code",
   "execution_count": null,
   "id": "81c0735c-e2cd-47a1-8059-6cf16f2caa76",
   "metadata": {},
   "outputs": [],
   "source": []
  }
 ],
 "metadata": {
  "kernelspec": {
   "display_name": "Python 3",
   "language": "python",
   "name": "python3"
  },
  "language_info": {
   "codemirror_mode": {
    "name": "ipython",
    "version": 3
   },
   "file_extension": ".py",
   "mimetype": "text/x-python",
   "name": "python",
   "nbconvert_exporter": "python",
   "pygments_lexer": "ipython3",
   "version": "3.7.10"
  }
 },
 "nbformat": 4,
 "nbformat_minor": 5
}
